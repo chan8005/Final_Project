{
 "cells": [
  {
   "cell_type": "markdown",
   "metadata": {},
   "source": [
    "# Project Outline"
   ]
  },
  {
   "cell_type": "markdown",
   "metadata": {},
   "source": []
  },
  {
   "cell_type": "code",
   "execution_count": null,
   "metadata": {
    "collapsed": true
   },
   "outputs": [],
   "source": []
  },
  {
   "cell_type": "markdown",
   "metadata": {},
   "source": [
    "\n"
   ]
  },
  {
   "cell_type": "code",
   "execution_count": null,
   "metadata": {
    "collapsed": true
   },
   "outputs": [],
   "source": [
    "\n",
    "\n",
    "    \n",
    "    \n"
   ]
  },
  {
   "cell_type": "markdown",
   "metadata": {},
   "source": [
    "#  Etracting values from simulation results"
   ]
  },
  {
   "cell_type": "code",
   "execution_count": 69,
   "metadata": {},
   "outputs": [],
   "source": [
    "# will take each pdb file and parse it\n",
    "\n",
    "def file_extract(file):\n",
    "    \"\"\"\n",
    "    Takes a file and extracts the atom type, atom number,\n",
    "    xposition, ypostion, and zposition and puts them into seperate lists.\n",
    "    Note that each frame is not seperated yet. \n",
    "    \n",
    "    Inputs:\n",
    "    file- pdb file, assumed that file is in the same directory\n",
    "    \n",
    "    Returns: atomtype, atomnumber, xposition, yposition, zpositions in lists\n",
    "    \n",
    "    Example:\n",
    "    >>> file_extract(\"example.pdb\")\n",
    "    (['el10'], ['el1'], ['el6'], ['el7'], ['el8'])\n",
    "    \"\"\"\n",
    "    \n",
    "    file= open(file)\n",
    "\n",
    "    #creates empty lists for the sparsed file to go into\n",
    "    atomtype=[]\n",
    "    atomnumber=[]\n",
    "    xposition=[]\n",
    "    yposition=[]\n",
    "    zposition=[]\n",
    "    \n",
    "    for line in file:\n",
    "        splitline = line.split() #splits each line of file so each goup of text is a string basically omits spaces\n",
    "        if splitline[0] == \"HETATM\":\n",
    "            atomtype.append(splitline[-1])\n",
    "            atomnumber.append(splitline[1])\n",
    "            xposition.append(splitline[6])\n",
    "            yposition.append(splitline[7])\n",
    "            zposition.append(splitline[8])\n",
    "\n",
    "    return atomtype, atomnumber, xposition, yposition, zposition  \n",
    "\n",
    "\n",
    "\n",
    "avgxposition=[]\n",
    "for atom in range(6000):\n",
    "    if atomnumber == atom:\n",
    "        templist=[]\n",
    "        templist.append(xposition[atom])\n",
    "\n",
    " \n"
   ]
  },
  {
   "cell_type": "code",
   "execution_count": 73,
   "metadata": {},
   "outputs": [
    {
     "data": {
      "text/plain": [
       "TestResults(failed=0, attempted=1)"
      ]
     },
     "execution_count": 73,
     "metadata": {},
     "output_type": "execute_result"
    }
   ],
   "source": [
    "import doctest\n",
    "doctest.testmod()"
   ]
  },
  {
   "cell_type": "code",
   "execution_count": null,
   "metadata": {
    "collapsed": true
   },
   "outputs": [],
   "source": []
  }
 ],
 "metadata": {
  "kernelspec": {
   "display_name": "Python 3",
   "language": "python",
   "name": "python3"
  },
  "language_info": {
   "codemirror_mode": {
    "name": "ipython",
    "version": 3
   },
   "file_extension": ".py",
   "mimetype": "text/x-python",
   "name": "python",
   "nbconvert_exporter": "python",
   "pygments_lexer": "ipython3",
   "version": "3.6.3"
  }
 },
 "nbformat": 4,
 "nbformat_minor": 2
}
