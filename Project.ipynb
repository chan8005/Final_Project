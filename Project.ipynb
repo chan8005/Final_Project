{
 "cells": [
  {
   "cell_type": "markdown",
   "metadata": {},
   "source": [
    "# Project Outline"
   ]
  },
  {
   "cell_type": "markdown",
   "metadata": {},
   "source": [
    "## Introduction\n",
    "\n",
    "Molecular dynamics simulations is a method that applies equations of motion for each specified particle in a defined system to directly simulate dynamics. Molecular dynamics in the field of chemistry has allowed scientists to observe the dynamics of a system in microscopic detail which is usually not possible with traditional methods of chemical analysis. The use of MD has been applied to a variety of chemical reactions and molecules. It is used to model chemical processes and even used as an alternative method to carry out chemical reactions. This has allowed a great reduction in the labor, waste, and resources used in traditional lab settings. \n",
    "\n",
    "This project will take advantage of this method to simulate molecules of water in a system that is spherically shaped. Once the system is set up, we will simulate the system heating up and observe how that affects the system. We will simulate it so that the the molecules go through all 3 of its phases. We will be comparing the density as a funtion of temperature, radius and time to the properties of water and see if the simulation behaves as water does in reality. "
   ]
  },
  {
   "cell_type": "markdown",
   "metadata": {},
   "source": []
  },
  {
   "cell_type": "markdown",
   "metadata": {},
   "source": [
    "\n"
   ]
  },
  {
   "cell_type": "markdown",
   "metadata": {},
   "source": []
  },
  {
   "cell_type": "code",
   "execution_count": null,
   "metadata": {
    "collapsed": true
   },
   "outputs": [],
   "source": []
  }
 ],
 "metadata": {
  "kernelspec": {
   "display_name": "Python 3",
   "language": "python",
   "name": "python3"
  },
  "language_info": {
   "codemirror_mode": {
    "name": "ipython",
    "version": 3
   },
   "file_extension": ".py",
   "mimetype": "text/x-python",
   "name": "python",
   "nbconvert_exporter": "python",
   "pygments_lexer": "ipython3",
   "version": "3.6.3"
  }
 },
 "nbformat": 4,
 "nbformat_minor": 2
}
