{
 "cells": [
  {
   "cell_type": "markdown",
   "metadata": {},
   "source": [
    "# Project Outline"
   ]
  },
  {
   "cell_type": "markdown",
   "metadata": {},
   "source": [
    "## Introduction\n",
    "\n",
    "Molecular dynamics simulations is a method that applies equations of motion for each specified particle in a defined system to directly simulate dynamics. Molecular dynamics in the field of chemistry has allowed scientists to observe the dynamics of a system in microscopic detail which is usually not possible with traditional methods of chemical analysis. The use of MD has been applied to a variety of chemical reactions and molecules. It is used to model chemical processes and even used as an alternative method to carry out chemical reactions. This has allowed a great reduction in the labor, waste, and resources used in traditional lab settings. \n",
    "\n",
    "This project will take advantage of this method to simulate molecules of water in a system that is spherically shaped. Once the system is set up, we will simulate the system heating up and observe how that affects the system. We will simulate it so that the the molecules go through all 3 of its phases. We will be comparing the density as a funtion of temperature, radius and time to the properties of water and see if the simulation behaves as water does in reality. "
   ]
  },
  {
   "cell_type": "markdown",
   "metadata": {},
   "source": [
    "\n"
   ]
  },
  {
   "cell_type": "code",
   "execution_count": null,
   "metadata": {
    "collapsed": true
   },
   "outputs": [],
   "source": [
    "main()\n",
    "Initsimulation(FileBase,0) #start simulation at 0K\n",
    "SetSimTemp(mySimulation,300,F_name) #bring simulation to 300K (How fast do I do this?)\n",
    "\n",
    "for T in range(295,195,-5): # range is 295-200K in increments of -5K\n",
    "    SetSimtemp(mySimulation,T,F_name) #bring simulation to T in range(295,195,-5) (How do I tell it to stay there for 500 steps?)\n",
    "\n",
    "\n",
    "for T in range (200,450,50): #range 200-400K in increments of 50K\n",
    "    SetSimTemp(mySimulation,T,F_name) \n",
    "    #stay at T for 500 steps\n",
    "    SimAtT(mySimulation,T,2,4000,FileNameBase) #interval time is 2ns, with 4000 steps taken\n",
    "    \n",
    "    \n"
   ]
  }
 ],
 "metadata": {
  "kernelspec": {
   "display_name": "Python 3",
   "language": "python",
   "name": "python3"
  },
  "language_info": {
   "codemirror_mode": {
    "name": "ipython",
    "version": 3
   },
   "file_extension": ".py",
   "mimetype": "text/x-python",
   "name": "python",
   "nbconvert_exporter": "python",
   "pygments_lexer": "ipython3",
   "version": "3.6.3"
  }
 },
 "nbformat": 4,
 "nbformat_minor": 2
}
