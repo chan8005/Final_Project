{
 "cells": [
  {
   "cell_type": "markdown",
   "metadata": {},
   "source": [
    "# Project Outline"
   ]
  },
  {
   "cell_type": "markdown",
   "metadata": {},
   "source": []
  },
  {
   "cell_type": "code",
   "execution_count": null,
   "metadata": {
    "collapsed": true
   },
   "outputs": [],
   "source": [
    "##########################################################################\n",
    "# Imports (from openmm library)\n",
    "##########################################################################\n",
    "from __future__ import print_function\n",
    "from simtk.openmm.app import *\n",
    "from simtk.openmm import *\n",
    "from simtk import unit\n",
    "from simtk.openmm.app.pdbfile import *\n",
    "import volumeEditor as ve\n",
    "\n",
    "##########################################################################\n",
    "# Variables\n",
    "##########################################################################\n",
    "\"\"\"Temp = 200 * unit.kelvin                    # Temperature for the simulation\n",
    "output_steps = 50                           # How often to output information\n",
    "LI_fric_coef = 1.0 / unit.picoseconds       # the langevin integrator friction coeficient\n",
    "time_of_step = 0.5 * unit.femtoseconds      # the time length of each simulation step\n",
    "tot_time = 0.5 * unit.nanoseconds           # the total time of the simulation\n",
    "num_steps = tot_time / time_of_step       \"\"\"  # the number of steps for the simulation\n",
    "pdb_file = \"WaterSphere.pdb\"            # ADD IN FILE PATH FOR PDB FILE TO SIMULATE\n",
    "#cudaIndex = 1   <-- NOT NEEDED FOR MAC\n",
    "\n",
    "\n",
    "##########################################################################\n",
    "# System Setup\n",
    "##########################################################################\n",
    "print('Loading Force Field and PDB file...')\n",
    "forcefield = app.ForceField('amoeba2013.xml')\n",
    "pdb = app.PDBFile(pdb_file)  # load to the pdb file\n",
    "\n",
    "# Creating the system\n",
    "print('Creating System...')\n",
    "system = forcefield.createSystem(pdb.topology,\n",
    "    nonbondedMethod=app.NoCutoff, constraints=None, rigidWater=False)\n",
    "\n",
    "print('Creating Langevin Integrator...')\n",
    "integrator = LangevinIntegrator(200*unit.kelvin, 1.0/unit.picoseconds, \n",
    "    0.5*unit.femtoseconds)\n",
    "\n",
    "print('Setting Platform...')\n",
    "platform = Platform.getPlatformByName('CUDA')  # tell OpenMM to use the CUDA platform\n",
    "properties = {'CudaPrecision': 'mixed'}\n",
    "\n",
    "print('Creating Simulation')\n",
    "simulation = app.Simulation(pdb.topology, system, integrator, platform, properties)  # create the simulation object\n",
    "simulation.context.setPositions(pdb.positions)  # set the positions for the simulations based on our pdb object and file\n",
    "\n",
    "##########################################################################\n",
    "# Minimize the system\n",
    "##########################################################################\n",
    "print('Minimizing...')\n",
    "simulation.minimizeEnergy(maxIterations=1000)\n",
    "\n",
    "PDBFile.writeFile(simulation.topology, pdb.positions, open('waterSphere.equilibrate.pdb', 'w'))\n",
    "\n",
    "\n",
    "\n",
    "simulation.reporters.append(app.DCDReporter('waterSphere.pdb', 40))\n",
    "simulation.reporters.append(app.PDBReporter('waterSphere_trajectory.pdb', 40))\n",
    "simulation.reporters.append(app.StateDataReporter('WaterSphere.log', 40, step=True, \n",
    "    time=True, potentialEnergy=True, kineticEnergy=True, totalEnergy=True, \n",
    "    temperature=True, volume=True, density=True, progress=True, \n",
    "    remainingTime=True, speed=True, totalSteps=20000, separator='\\t'))\n",
    "\n",
    "print('Running Production...')\n",
    "\n",
    "\n",
    "\n",
    "for T in range(295,195,-5): # range is 295-200K in increments of -5K\n",
    "    SetSimtemp(mySimulation,T,F_name) #bring simulation to T in range(295,195,-5) (How do I tell it to stay there for 500 steps?)\n",
    "\n",
    "\n",
    "for T in range (200,450,50): #range 200-400K in increments of 50K\n",
    "    SetSimTemp(mySimulation,T,F_name) \n",
    "    #stay at T for 500 steps\n",
    "    SimAtT(mySimulation,T,2,4000,FileNameBase) #interval time is 2ns, with 4000 steps taken\n",
    "\n",
    "\n",
    "\n",
    "\n",
    "\n",
    "\n",
    "\n",
    "\n",
    "\n",
    "for i in range(200):\n",
    "    print(\"Set Temp: \", 200+i)\n",
    "    integrator.setTemperature((200+i)*unit.kelvin)\n",
    "    simulation.step(100)\n",
    "print('Done!')\n",
    "\n",
    "\n",
    "\n",
    "\n",
    "\n",
    "#positions = simulation.context.getState(getPositions=True, enforcePeriodicBox=True).getPositions()\n",
    "\n",
    "#with open('../Resources/trypsinPDBs/trypsinMin.pdb', 'w') as f:\n",
    "    #app.PDBFile.writeFile (simulation.topology, positions, f)"
   ]
  },
  {
   "cell_type": "markdown",
   "metadata": {},
   "source": [
    "\n"
   ]
  },
  {
   "cell_type": "code",
   "execution_count": null,
   "metadata": {
    "collapsed": true
   },
   "outputs": [],
   "source": [
    "main()\n",
    "Initsimulation(FileBase,0) #start simulation at 0K\n",
    "SetSimTemp(mySimulation,300,F_name) #bring simulation to 300K (How fast do I do this?)\n",
    "\n",
    "\n",
    "    \n",
    "    \n"
   ]
  },
  {
   "cell_type": "markdown",
   "metadata": {},
   "source": [
    "#  Etracting values from simulation results"
   ]
  },
  {
   "cell_type": "code",
   "execution_count": null,
   "metadata": {
    "collapsed": true
   },
   "outputs": [],
   "source": [
    "import numpy as np\n",
    "x=empty()\n",
    "\n",
    "for i in range(100):\n",
    "    data= np.loadtxt(\"waterframe{}.txt\".format(i))\n",
    "    identity=data[:,0]\n",
    "    x,y,z=data[:,1],data[:,2],data[:,3]\n",
    "    for i in len(x):\n",
    "    \n",
    "    \n",
    "    \n",
    "    "
   ]
  }
 ],
 "metadata": {
  "kernelspec": {
   "display_name": "Python 3",
   "language": "python",
   "name": "python3"
  },
  "language_info": {
   "codemirror_mode": {
    "name": "ipython",
    "version": 3
   },
   "file_extension": ".py",
   "mimetype": "text/x-python",
   "name": "python",
   "nbconvert_exporter": "python",
   "pygments_lexer": "ipython3",
   "version": "3.6.3"
  }
 },
 "nbformat": 4,
 "nbformat_minor": 2
}
